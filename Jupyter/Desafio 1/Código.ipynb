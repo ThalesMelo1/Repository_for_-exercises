{
 "cells": [
  {
   "cell_type": "code",
   "execution_count": 1,
   "id": "4fe01462-adc5-4b5f-b81b-18c4b59fdbd6",
   "metadata": {},
   "outputs": [
    {
     "name": "stdout",
     "output_type": "stream",
     "text": [
      "Requirement already satisfied: openpyxl in /usr/local/python/3.12.1/lib/python3.12/site-packages (3.1.5)\n",
      "Requirement already satisfied: et-xmlfile in /usr/local/python/3.12.1/lib/python3.12/site-packages (from openpyxl) (2.0.0)\n",
      "\n",
      "\u001b[1m[\u001b[0m\u001b[34;49mnotice\u001b[0m\u001b[1;39;49m]\u001b[0m\u001b[39;49m A new release of pip is available: \u001b[0m\u001b[31;49m25.0.1\u001b[0m\u001b[39;49m -> \u001b[0m\u001b[32;49m25.1.1\u001b[0m\n",
      "\u001b[1m[\u001b[0m\u001b[34;49mnotice\u001b[0m\u001b[1;39;49m]\u001b[0m\u001b[39;49m To update, run: \u001b[0m\u001b[32;49mpython3 -m pip install --upgrade pip\u001b[0m\n"
     ]
    }
   ],
   "source": [
    "!pip install openpyxl\n",
    "\n",
    "import pandas as pd\n",
    "import numpy as np"
   ]
  },
  {
   "cell_type": "code",
   "execution_count": 2,
   "id": "e0ae531f-fb5a-4584-8671-501cd0684c01",
   "metadata": {},
   "outputs": [],
   "source": [
    "df = pd.read_excel(r'vendas.xlsx')"
   ]
  },
  {
   "cell_type": "code",
   "execution_count": 3,
   "id": "7b874cf1-6908-4d12-a4d7-8071db2a8ea7",
   "metadata": {},
   "outputs": [
    {
     "data": {
      "application/vnd.microsoft.datawrangler.viewer.v0+json": {
       "columns": [
        {
         "name": "index",
         "rawType": "int64",
         "type": "integer"
        },
        {
         "name": "Código Venda",
         "rawType": "int64",
         "type": "integer"
        },
        {
         "name": "Data",
         "rawType": "datetime64[ns]",
         "type": "datetime"
        },
        {
         "name": "ID Loja",
         "rawType": "object",
         "type": "string"
        },
        {
         "name": "Produto",
         "rawType": "object",
         "type": "string"
        },
        {
         "name": "Quantidade",
         "rawType": "int64",
         "type": "integer"
        },
        {
         "name": "Valor Unitário",
         "rawType": "int64",
         "type": "integer"
        },
        {
         "name": "Valor Final",
         "rawType": "int64",
         "type": "integer"
        }
       ],
       "ref": "8631ab88-2602-4c56-9fca-158558be39be",
       "rows": [
        [
         "0",
         "1",
         "2019-01-01 00:00:00",
         "Iguatemi Esplanada",
         "Sapato Estampa",
         "1",
         "358",
         "358"
        ],
        [
         "1",
         "1",
         "2019-01-01 00:00:00",
         "Iguatemi Esplanada",
         "Camiseta",
         "2",
         "180",
         "360"
        ],
        [
         "2",
         "1",
         "2019-01-01 00:00:00",
         "Iguatemi Esplanada",
         "Sapato Xadrez",
         "1",
         "368",
         "368"
        ],
        [
         "3",
         "2",
         "2019-01-02 00:00:00",
         "Norte Shopping",
         "Relógio",
         "3",
         "200",
         "600"
        ],
        [
         "4",
         "2",
         "2019-01-02 00:00:00",
         "Norte Shopping",
         "Chinelo Liso",
         "1",
         "71",
         "71"
        ],
        [
         "5",
         "3",
         "2019-01-02 00:00:00",
         "Rio Mar Shopping Fortaleza",
         "Cinto Linho",
         "1",
         "248",
         "248"
        ],
        [
         "6",
         "5",
         "2019-01-02 00:00:00",
         "Shopping Barra",
         "Calça",
         "1",
         "170",
         "170"
        ],
        [
         "7",
         "6",
         "2019-01-02 00:00:00",
         "Shopping Ibirapuera",
         "Polo Listrado",
         "4",
         "149",
         "596"
        ],
        [
         "8",
         "7",
         "2019-01-02 00:00:00",
         "Norte Shopping",
         "Camisa Gola V Listrado",
         "1",
         "116",
         "116"
        ],
        [
         "9",
         "7",
         "2019-01-02 00:00:00",
         "Norte Shopping",
         "Camisa Liso",
         "1",
         "105",
         "105"
        ],
        [
         "10",
         "8",
         "2019-01-02 00:00:00",
         "Iguatemi Campinas",
         "Terno Estampa",
         "5",
         "706",
         "3530"
        ],
        [
         "11",
         "9",
         "2019-01-02 00:00:00",
         "Shopping Center Leste Aricanduva",
         "Tênis Linho",
         "1",
         "294",
         "294"
        ],
        [
         "12",
         "9",
         "2019-01-02 00:00:00",
         "Shopping Center Leste Aricanduva",
         "Casaco Xadrez",
         "2",
         "259",
         "518"
        ],
        [
         "13",
         "10",
         "2019-01-02 00:00:00",
         "Passei das Águas Shopping",
         "Camiseta Xadrez",
         "2",
         "200",
         "400"
        ],
        [
         "14",
         "10",
         "2019-01-02 00:00:00",
         "Passei das Águas Shopping",
         "Cueca Liso",
         "1",
         "69",
         "69"
        ],
        [
         "15",
         "11",
         "2019-01-02 00:00:00",
         "Shopping Recife",
         "Camiseta",
         "1",
         "180",
         "180"
        ],
        [
         "16",
         "11",
         "2019-01-02 00:00:00",
         "Shopping Recife",
         "Calça Listrado",
         "2",
         "181",
         "362"
        ],
        [
         "17",
         "11",
         "2019-01-02 00:00:00",
         "Shopping Recife",
         "Camisa Estampa",
         "1",
         "113",
         "113"
        ],
        [
         "18",
         "12",
         "2019-01-02 00:00:00",
         "Shopping Midway Mall",
         "Short Xadrez",
         "4",
         "100",
         "400"
        ],
        [
         "19",
         "12",
         "2019-01-02 00:00:00",
         "Shopping Midway Mall",
         "Sunga Liso",
         "2",
         "114",
         "228"
        ],
        [
         "20",
         "14",
         "2019-01-02 00:00:00",
         "Bourbon Shopping SP",
         "Casaco Liso",
         "2",
         "255",
         "510"
        ],
        [
         "21",
         "17",
         "2019-01-02 00:00:00",
         "Iguatemi Campinas",
         "Chinelo Liso",
         "1",
         "71",
         "71"
        ],
        [
         "22",
         "18",
         "2019-01-02 00:00:00",
         "Rio Mar Shopping Fortaleza",
         "Camisa Estampa",
         "1",
         "113",
         "113"
        ],
        [
         "23",
         "19",
         "2019-01-02 00:00:00",
         "Passei das Águas Shopping",
         "Relógio Listrado",
         "1",
         "218",
         "218"
        ],
        [
         "24",
         "19",
         "2019-01-02 00:00:00",
         "Passei das Águas Shopping",
         "Calça Linho",
         "2",
         "211",
         "422"
        ],
        [
         "25",
         "20",
         "2019-01-02 00:00:00",
         "Shopping Center Interlagos",
         "Mochila Liso",
         "1",
         "276",
         "276"
        ],
        [
         "26",
         "21",
         "2019-01-02 00:00:00",
         "Iguatemi Esplanada",
         "Camisa Gola V Listrado",
         "2",
         "116",
         "232"
        ],
        [
         "27",
         "22",
         "2019-01-02 00:00:00",
         "Parque Dom Pedro Shopping",
         "Meia",
         "1",
         "30",
         "30"
        ],
        [
         "28",
         "22",
         "2019-01-02 00:00:00",
         "Parque Dom Pedro Shopping",
         "Meia Linho",
         "2",
         "78",
         "156"
        ],
        [
         "29",
         "22",
         "2019-01-02 00:00:00",
         "Parque Dom Pedro Shopping",
         "Calça Liso",
         "2",
         "190",
         "380"
        ],
        [
         "30",
         "23",
         "2019-01-02 00:00:00",
         "Center Shopping Uberlândia",
         "Bermuda Estampa",
         "3",
         "169",
         "507"
        ],
        [
         "31",
         "23",
         "2019-01-02 00:00:00",
         "Center Shopping Uberlândia",
         "Chinelo Liso",
         "3",
         "71",
         "213"
        ],
        [
         "32",
         "26",
         "2019-01-02 00:00:00",
         "Shopping União de Osasco",
         "Chinelo",
         "2",
         "60",
         "120"
        ],
        [
         "33",
         "27",
         "2019-01-02 00:00:00",
         "Rio Mar Shopping Fortaleza",
         "Sunga Linho",
         "1",
         "149",
         "149"
        ],
        [
         "34",
         "27",
         "2019-01-02 00:00:00",
         "Rio Mar Shopping Fortaleza",
         "Terno Listrado",
         "2",
         "709",
         "1418"
        ],
        [
         "35",
         "29",
         "2019-01-02 00:00:00",
         "Shopping Center Leste Aricanduva",
         "Gorro Liso",
         "4",
         "92",
         "368"
        ],
        [
         "36",
         "31",
         "2019-01-02 00:00:00",
         "Shopping Eldorado",
         "Casaco Estampa",
         "3",
         "256",
         "768"
        ],
        [
         "37",
         "31",
         "2019-01-02 00:00:00",
         "Shopping Eldorado",
         "Pulseira",
         "3",
         "70",
         "210"
        ],
        [
         "38",
         "31",
         "2019-01-02 00:00:00",
         "Shopping Eldorado",
         "Gorro Linho",
         "1",
         "124",
         "124"
        ],
        [
         "39",
         "31",
         "2019-01-02 00:00:00",
         "Shopping Eldorado",
         "Cinto Linho",
         "3",
         "248",
         "744"
        ],
        [
         "40",
         "32",
         "2019-01-02 00:00:00",
         "Shopping Vila Velha",
         "Polo Liso",
         "1",
         "137",
         "137"
        ],
        [
         "41",
         "32",
         "2019-01-02 00:00:00",
         "Shopping Vila Velha",
         "Polo Listrado",
         "2",
         "149",
         "298"
        ],
        [
         "42",
         "33",
         "2019-01-02 00:00:00",
         "Shopping Midway Mall",
         "Camisa",
         "1",
         "100",
         "100"
        ],
        [
         "43",
         "33",
         "2019-01-02 00:00:00",
         "Shopping Midway Mall",
         "Meia Xadrez",
         "3",
         "41",
         "123"
        ],
        [
         "44",
         "34",
         "2019-01-02 00:00:00",
         "Iguatemi Esplanada",
         "Sapato Listrado",
         "1",
         "363",
         "363"
        ],
        [
         "45",
         "34",
         "2019-01-02 00:00:00",
         "Iguatemi Esplanada",
         "Camisa Gola V Liso",
         "2",
         "118",
         "236"
        ],
        [
         "46",
         "35",
         "2019-01-02 00:00:00",
         "Parque Dom Pedro Shopping",
         "Relógio",
         "2",
         "200",
         "400"
        ],
        [
         "47",
         "35",
         "2019-01-02 00:00:00",
         "Parque Dom Pedro Shopping",
         "Sapato",
         "2",
         "350",
         "700"
        ],
        [
         "48",
         "36",
         "2019-01-02 00:00:00",
         "Rio Mar Shopping Fortaleza",
         "Meia Listrado",
         "1",
         "37",
         "37"
        ],
        [
         "49",
         "38",
         "2019-01-02 00:00:00",
         "Shopping Vila Velha",
         "Meia Xadrez",
         "3",
         "41",
         "123"
        ]
       ],
       "shape": {
        "columns": 7,
        "rows": 100999
       }
      },
      "text/html": [
       "<div>\n",
       "<style scoped>\n",
       "    .dataframe tbody tr th:only-of-type {\n",
       "        vertical-align: middle;\n",
       "    }\n",
       "\n",
       "    .dataframe tbody tr th {\n",
       "        vertical-align: top;\n",
       "    }\n",
       "\n",
       "    .dataframe thead th {\n",
       "        text-align: right;\n",
       "    }\n",
       "</style>\n",
       "<table border=\"1\" class=\"dataframe\">\n",
       "  <thead>\n",
       "    <tr style=\"text-align: right;\">\n",
       "      <th></th>\n",
       "      <th>Código Venda</th>\n",
       "      <th>Data</th>\n",
       "      <th>ID Loja</th>\n",
       "      <th>Produto</th>\n",
       "      <th>Quantidade</th>\n",
       "      <th>Valor Unitário</th>\n",
       "      <th>Valor Final</th>\n",
       "    </tr>\n",
       "  </thead>\n",
       "  <tbody>\n",
       "    <tr>\n",
       "      <th>0</th>\n",
       "      <td>1</td>\n",
       "      <td>2019-01-01</td>\n",
       "      <td>Iguatemi Esplanada</td>\n",
       "      <td>Sapato Estampa</td>\n",
       "      <td>1</td>\n",
       "      <td>358</td>\n",
       "      <td>358</td>\n",
       "    </tr>\n",
       "    <tr>\n",
       "      <th>1</th>\n",
       "      <td>1</td>\n",
       "      <td>2019-01-01</td>\n",
       "      <td>Iguatemi Esplanada</td>\n",
       "      <td>Camiseta</td>\n",
       "      <td>2</td>\n",
       "      <td>180</td>\n",
       "      <td>360</td>\n",
       "    </tr>\n",
       "    <tr>\n",
       "      <th>2</th>\n",
       "      <td>1</td>\n",
       "      <td>2019-01-01</td>\n",
       "      <td>Iguatemi Esplanada</td>\n",
       "      <td>Sapato Xadrez</td>\n",
       "      <td>1</td>\n",
       "      <td>368</td>\n",
       "      <td>368</td>\n",
       "    </tr>\n",
       "    <tr>\n",
       "      <th>3</th>\n",
       "      <td>2</td>\n",
       "      <td>2019-01-02</td>\n",
       "      <td>Norte Shopping</td>\n",
       "      <td>Relógio</td>\n",
       "      <td>3</td>\n",
       "      <td>200</td>\n",
       "      <td>600</td>\n",
       "    </tr>\n",
       "    <tr>\n",
       "      <th>4</th>\n",
       "      <td>2</td>\n",
       "      <td>2019-01-02</td>\n",
       "      <td>Norte Shopping</td>\n",
       "      <td>Chinelo Liso</td>\n",
       "      <td>1</td>\n",
       "      <td>71</td>\n",
       "      <td>71</td>\n",
       "    </tr>\n",
       "    <tr>\n",
       "      <th>...</th>\n",
       "      <td>...</td>\n",
       "      <td>...</td>\n",
       "      <td>...</td>\n",
       "      <td>...</td>\n",
       "      <td>...</td>\n",
       "      <td>...</td>\n",
       "      <td>...</td>\n",
       "    </tr>\n",
       "    <tr>\n",
       "      <th>100994</th>\n",
       "      <td>69996</td>\n",
       "      <td>2019-12-26</td>\n",
       "      <td>Center Shopping Uberlândia</td>\n",
       "      <td>Short Listrado</td>\n",
       "      <td>2</td>\n",
       "      <td>102</td>\n",
       "      <td>204</td>\n",
       "    </tr>\n",
       "    <tr>\n",
       "      <th>100995</th>\n",
       "      <td>69996</td>\n",
       "      <td>2019-12-26</td>\n",
       "      <td>Center Shopping Uberlândia</td>\n",
       "      <td>Mochila</td>\n",
       "      <td>4</td>\n",
       "      <td>270</td>\n",
       "      <td>1080</td>\n",
       "    </tr>\n",
       "    <tr>\n",
       "      <th>100996</th>\n",
       "      <td>69996</td>\n",
       "      <td>2019-12-26</td>\n",
       "      <td>Center Shopping Uberlândia</td>\n",
       "      <td>Pulseira Estampa</td>\n",
       "      <td>1</td>\n",
       "      <td>87</td>\n",
       "      <td>87</td>\n",
       "    </tr>\n",
       "    <tr>\n",
       "      <th>100997</th>\n",
       "      <td>69997</td>\n",
       "      <td>2019-12-26</td>\n",
       "      <td>Ribeirão Shopping</td>\n",
       "      <td>Camisa Listrado</td>\n",
       "      <td>1</td>\n",
       "      <td>108</td>\n",
       "      <td>108</td>\n",
       "    </tr>\n",
       "    <tr>\n",
       "      <th>100998</th>\n",
       "      <td>69997</td>\n",
       "      <td>2019-12-26</td>\n",
       "      <td>Ribeirão Shopping</td>\n",
       "      <td>Short Linho</td>\n",
       "      <td>2</td>\n",
       "      <td>133</td>\n",
       "      <td>266</td>\n",
       "    </tr>\n",
       "  </tbody>\n",
       "</table>\n",
       "<p>100999 rows × 7 columns</p>\n",
       "</div>"
      ],
      "text/plain": [
       "        Código Venda       Data                     ID Loja           Produto  \\\n",
       "0                  1 2019-01-01          Iguatemi Esplanada    Sapato Estampa   \n",
       "1                  1 2019-01-01          Iguatemi Esplanada          Camiseta   \n",
       "2                  1 2019-01-01          Iguatemi Esplanada     Sapato Xadrez   \n",
       "3                  2 2019-01-02              Norte Shopping           Relógio   \n",
       "4                  2 2019-01-02              Norte Shopping      Chinelo Liso   \n",
       "...              ...        ...                         ...               ...   \n",
       "100994         69996 2019-12-26  Center Shopping Uberlândia    Short Listrado   \n",
       "100995         69996 2019-12-26  Center Shopping Uberlândia           Mochila   \n",
       "100996         69996 2019-12-26  Center Shopping Uberlândia  Pulseira Estampa   \n",
       "100997         69997 2019-12-26           Ribeirão Shopping   Camisa Listrado   \n",
       "100998         69997 2019-12-26           Ribeirão Shopping       Short Linho   \n",
       "\n",
       "        Quantidade  Valor Unitário  Valor Final  \n",
       "0                1             358          358  \n",
       "1                2             180          360  \n",
       "2                1             368          368  \n",
       "3                3             200          600  \n",
       "4                1              71           71  \n",
       "...            ...             ...          ...  \n",
       "100994           2             102          204  \n",
       "100995           4             270         1080  \n",
       "100996           1              87           87  \n",
       "100997           1             108          108  \n",
       "100998           2             133          266  \n",
       "\n",
       "[100999 rows x 7 columns]"
      ]
     },
     "execution_count": 3,
     "metadata": {},
     "output_type": "execute_result"
    }
   ],
   "source": [
    "df"
   ]
  },
  {
   "cell_type": "code",
   "execution_count": 4,
   "id": "76bccc49-592f-41f1-9037-d7a48e5d7e1c",
   "metadata": {},
   "outputs": [
    {
     "data": {
      "text/plain": [
       "array(['Iguatemi Esplanada', 'Norte Shopping',\n",
       "       'Rio Mar Shopping Fortaleza', 'Shopping Barra',\n",
       "       'Shopping Ibirapuera', 'Iguatemi Campinas',\n",
       "       'Shopping Center Leste Aricanduva', 'Passei das Águas Shopping',\n",
       "       'Shopping Recife', 'Shopping Midway Mall', 'Bourbon Shopping SP',\n",
       "       'Shopping Center Interlagos', 'Parque Dom Pedro Shopping',\n",
       "       'Center Shopping Uberlândia', 'Shopping União de Osasco',\n",
       "       'Shopping Eldorado', 'Shopping Vila Velha',\n",
       "       'Novo Shopping Ribeirão Preto', 'Rio Mar Recife',\n",
       "       'Palladium Shopping Curitiba', 'Shopping SP Market',\n",
       "       'Ribeirão Shopping', 'Shopping Iguatemi Fortaleza',\n",
       "       'Shopping Morumbi', 'Salvador Shopping'], dtype=object)"
      ]
     },
     "execution_count": 4,
     "metadata": {},
     "output_type": "execute_result"
    }
   ],
   "source": [
    "df['ID Loja'].unique()"
   ]
  },
  {
   "cell_type": "code",
   "execution_count": 26,
   "id": "252920a4-1b0c-4597-81e9-7641b5cdfdc4",
   "metadata": {},
   "outputs": [
    {
     "name": "stdout",
     "output_type": "stream",
     "text": [
      "        Código Venda       Data             ID Loja                 Produto  \\\n",
      "0                  1 2019-01-01  Iguatemi Esplanada          Sapato Estampa   \n",
      "1                  1 2019-01-01  Iguatemi Esplanada                Camiseta   \n",
      "2                  1 2019-01-01  Iguatemi Esplanada           Sapato Xadrez   \n",
      "26                21 2019-01-02  Iguatemi Esplanada  Camisa Gola V Listrado   \n",
      "44                34 2019-01-02  Iguatemi Esplanada         Sapato Listrado   \n",
      "...              ...        ...                 ...                     ...   \n",
      "100847         69899 2019-12-25  Iguatemi Esplanada           Sapato Xadrez   \n",
      "100854         69903 2019-12-25  Iguatemi Esplanada              Terno Liso   \n",
      "100894         69928 2019-12-25  Iguatemi Esplanada                    Meia   \n",
      "100920         69944 2019-12-25  Iguatemi Esplanada            Gorro Xadrez   \n",
      "100921         69944 2019-12-25  Iguatemi Esplanada           Sapato Xadrez   \n",
      "\n",
      "        Quantidade  Valor Unitário  Valor Final  \n",
      "0                1             358          358  \n",
      "1                2             180          360  \n",
      "2                1             368          368  \n",
      "26               2             116          232  \n",
      "44               1             363          363  \n",
      "...            ...             ...          ...  \n",
      "100847           4             368         1472  \n",
      "100854           5             720         3600  \n",
      "100894           1              30           30  \n",
      "100920           5              85          425  \n",
      "100921           2             368          736  \n",
      "\n",
      "[3980 rows x 7 columns]\n"
     ]
    }
   ],
   "source": [
    "Lista_Iguatemi = pd.DataFrame(columns = ['Código Venda','Data','ID Loja', 'Produto', 'Quantidade', 'Valor Unitário', 'Valor Final'])\n",
    "\n",
    "Lista_Iguatemi = df[df['ID Loja'] == 'Iguatemi Esplanada'].copy()  \n",
    "\n",
    "print(Lista_Iguatemi)\n"
   ]
  }
 ],
 "metadata": {
  "kernelspec": {
   "display_name": "Python 3",
   "language": "python",
   "name": "python3"
  },
  "language_info": {
   "codemirror_mode": {
    "name": "ipython",
    "version": 3
   },
   "file_extension": ".py",
   "mimetype": "text/x-python",
   "name": "python",
   "nbconvert_exporter": "python",
   "pygments_lexer": "ipython3",
   "version": "3.12.1"
  }
 },
 "nbformat": 4,
 "nbformat_minor": 5
}
